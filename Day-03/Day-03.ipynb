{
 "cells": [
  {
   "cell_type": "code",
   "execution_count": 8,
   "id": "388d15dd-6b4b-4bc2-b9f4-da21ec1d9611",
   "metadata": {},
   "outputs": [
    {
     "name": "stdin",
     "output_type": "stream",
     "text": [
      " 2\n",
      " 6\n"
     ]
    },
    {
     "name": "stdout",
     "output_type": "stream",
     "text": [
      "Entered numbers are:  2 , 6\n",
      "Entered numbers are: 2,6\n",
      "Entered numbers are: 2,6\n",
      "Entered numbers are: 2,6\n",
      "Entered numbers are: 2,6\n"
     ]
    }
   ],
   "source": [
    "n = int(input())\n",
    "m = int(input())\n",
    "print(\"Entered numbers are: \",n,\",\",m)\n",
    "print(\"Entered numbers are: \"+str(n)+\",\"+str(m))\n",
    "print(\"Entered numbers are: %d,%d\"%(n,m))\n",
    "print(\"Entered numbers are: {},{}\".format(n,m))\n",
    "print(f\"Entered numbers are: {n},{m}\")"
   ]
  },
  {
   "cell_type": "markdown",
   "id": "9ab8f9e3-b584-4a69-8f83-02b3e1197159",
   "metadata": {},
   "source": [
    "```\n",
    "Input:\n",
    "    1\n",
    "    3\n",
    "Output:\n",
    "    Entered numbers are: '?','?'\n",
    "    Add of ? and ? is: ?\n",
    "    Sub of ? and ? is: ?\n",
    "    Mul of ? and ? is: ?\n",
    "    Mod of ? and ? is: ?\n",
    "    Div of ? and ? is: ?\n",
    "    Fld of ? and ? is: ?\n",
    "    Pow of ? and ? is: ?\n",
    "```"
   ]
  },
  {
   "cell_type": "code",
   "execution_count": 12,
   "id": "0feb6350-cbf8-436f-b591-af036abbc70b",
   "metadata": {},
   "outputs": [
    {
     "name": "stdin",
     "output_type": "stream",
     "text": [
      " 2\n",
      " 6\n"
     ]
    },
    {
     "name": "stdout",
     "output_type": "stream",
     "text": [
      "Entered numbers are: '2', '6'\n",
      "Add of 2 and 6 is: 8\n",
      "Sub of 2 and 6 is: -4\n",
      "Mul of 2 and 6 is: 12\n",
      "Div of 2 and 6 is: 0.3333333333333333\n",
      "Mod of 2 and 6 is: 2\n",
      "Fld of 2 and 6 is: 0\n",
      "Pow of 2 and 6 is: 64\n"
     ]
    }
   ],
   "source": [
    "a,b = int(input()),int(input())\n",
    "print(f\"Entered numbers are: '{a}', '{b}'\")\n",
    "print(f\"Add of {a} and {b} is: {a+b}\")\n",
    "print(f\"Sub of {a} and {b} is: {a-b}\")\n",
    "print(f\"Mul of {a} and {b} is: {a*b}\")\n",
    "print(f\"Div of {a} and {b} is: {a/b}\")\n",
    "print(f\"Mod of {a} and {b} is: {a%b}\")\n",
    "print(f\"Fld of {a} and {b} is: {a//b}\")\n",
    "print(f\"Pow of {a} and {b} is: {a**b}\")"
   ]
  },
  {
   "cell_type": "markdown",
   "id": "4fe8c456-887c-4ee8-b5c3-e925ee5e3921",
   "metadata": {},
   "source": [
    "## Keywords:\n",
    "    - We should not consider this words while creating a variable name,function name,class name or a method name\n",
    "    - import keyword\n",
    "    - print(dir(keyword))\n",
    "    - print(keyword.kwlist())\n",
    "    - print(len(keyword.kwlist()))"
   ]
  },
  {
   "cell_type": "code",
   "execution_count": 15,
   "id": "fdf05492-3c7c-4dfe-b9fe-2d16db2a9edf",
   "metadata": {},
   "outputs": [
    {
     "name": "stdout",
     "output_type": "stream",
     "text": [
      "['__all__', '__builtins__', '__cached__', '__doc__', '__file__', '__loader__', '__name__', '__package__', '__spec__', 'iskeyword', 'issoftkeyword', 'kwlist', 'softkwlist']\n",
      "['False', 'None', 'True', '__peg_parser__', 'and', 'as', 'assert', 'async', 'await', 'break', 'class', 'continue', 'def', 'del', 'elif', 'else', 'except', 'finally', 'for', 'from', 'global', 'if', 'import', 'in', 'is', 'lambda', 'nonlocal', 'not', 'or', 'pass', 'raise', 'return', 'try', 'while', 'with', 'yield']\n",
      "36\n"
     ]
    }
   ],
   "source": [
    "import keyword\n",
    "print(dir(keyword))\n",
    "print(keyword.kwlist)\n",
    "print(len(keyword.kwlist))"
   ]
  },
  {
   "cell_type": "code",
   "execution_count": 16,
   "id": "d3039265-69a2-4c82-978c-9661c8514edc",
   "metadata": {},
   "outputs": [],
   "source": [
    "import keyword"
   ]
  },
  {
   "cell_type": "code",
   "execution_count": 17,
   "id": "1942176c-5cd4-45da-a36f-c8dc000abbde",
   "metadata": {},
   "outputs": [
    {
     "name": "stdout",
     "output_type": "stream",
     "text": [
      "['__all__', '__builtins__', '__cached__', '__doc__', '__file__', '__loader__', '__name__', '__package__', '__spec__', 'iskeyword', 'issoftkeyword', 'kwlist', 'softkwlist']\n"
     ]
    }
   ],
   "source": [
    "print(dir(keyword))"
   ]
  },
  {
   "cell_type": "code",
   "execution_count": 18,
   "id": "ccbf1b75-551c-4191-ba4e-48f3d595f866",
   "metadata": {},
   "outputs": [
    {
     "name": "stdout",
     "output_type": "stream",
     "text": [
      "<class 'list'>\n"
     ]
    }
   ],
   "source": [
    "print(type(keyword.kwlist))"
   ]
  },
  {
   "cell_type": "code",
   "execution_count": 19,
   "id": "6095bb6c-4e21-4a55-9cf4-80f7564414de",
   "metadata": {},
   "outputs": [
    {
     "name": "stdout",
     "output_type": "stream",
     "text": [
      "['False', 'None', 'True', '__peg_parser__', 'and', 'as', 'assert', 'async', 'await', 'break', 'class', 'continue', 'def', 'del', 'elif', 'else', 'except', 'finally', 'for', 'from', 'global', 'if', 'import', 'in', 'is', 'lambda', 'nonlocal', 'not', 'or', 'pass', 'raise', 'return', 'try', 'while', 'with', 'yield']\n"
     ]
    }
   ],
   "source": [
    "print(keyword.kwlist)"
   ]
  },
  {
   "cell_type": "code",
   "execution_count": 20,
   "id": "668520e8-7448-4575-a245-bbc706019d6b",
   "metadata": {},
   "outputs": [
    {
     "name": "stdout",
     "output_type": "stream",
     "text": [
      "36\n"
     ]
    }
   ],
   "source": [
    "print(len(keyword.kwlist))"
   ]
  },
  {
   "cell_type": "markdown",
   "id": "de671de1-f67e-4fe4-9530-77d9ebcc7963",
   "metadata": {},
   "source": [
    "```\n",
    "Expression: 5x**3 + 2y\n",
    "Input:\n",
    "    Enter x value: ?\n",
    "    Enter y value: ?\n",
    "Output:\n",
    "    Entered values are: ? and ?\n",
    "    Given Expression is 5x**3+2y and the value is: ?\n",
    "```"
   ]
  },
  {
   "cell_type": "code",
   "execution_count": 23,
   "id": "0a77919a-3c28-4484-9ed2-b17fbe0bf993",
   "metadata": {},
   "outputs": [
    {
     "name": "stdin",
     "output_type": "stream",
     "text": [
      "Enter x value:  2\n",
      "Enter y value:  5\n"
     ]
    },
    {
     "name": "stdout",
     "output_type": "stream",
     "text": [
      "Entered numbers are: 2 and 5\n",
      "Given Expression is 5x**3+2y and the value is: 50\n"
     ]
    }
   ],
   "source": [
    "x,y = int(input(\"Enter x value: \")),int(input(\"Enter y value: \"))\n",
    "print(f\"Entered numbers are: {x} and {y}\")\n",
    "print(f\"Given Expression is 5x**3+2y and the value is: {5*x**3+2*y}\")"
   ]
  },
  {
   "cell_type": "markdown",
   "id": "35400093-f047-4f7a-a392-37f979b555a2",
   "metadata": {},
   "source": [
    "## Conditional Statements:\n",
    "    - To check whether the given condition is Either True or False\n",
    "    - if => single case\n",
    "    - if-else => two cases\n",
    "    - elif => n number of cases but based on preference it will execute\n",
    "    - nested if => n number of cases"
   ]
  },
  {
   "cell_type": "markdown",
   "id": "2937f12a-40a4-4332-b22d-5e5674f845dc",
   "metadata": {},
   "source": [
    "## if\n",
    "    Syntax:\n",
    "        if condition:\n",
    "            //statements"
   ]
  },
  {
   "cell_type": "markdown",
   "id": "5d66eca6-ef0a-4464-83d1-445180c710a1",
   "metadata": {},
   "source": [
    "```\n",
    "Input-1:\n",
    "    10\n",
    "Output-1:\n",
    "    Entered number 10 is lesser than 200\n",
    "\n",
    "Input-2:\n",
    "    250\n",
    "Output-2:\n",
    "\n",
    "```"
   ]
  },
  {
   "cell_type": "code",
   "execution_count": 26,
   "id": "948c5c48-5766-4f3e-af66-04c6e01cfe28",
   "metadata": {},
   "outputs": [
    {
     "name": "stdin",
     "output_type": "stream",
     "text": [
      " 250\n"
     ]
    }
   ],
   "source": [
    "k = int(input())\n",
    "if k<200:\n",
    "    print(f\"Entered number {k} is lesser than 200\")"
   ]
  },
  {
   "cell_type": "markdown",
   "id": "43da35a8-ba88-4edf-81ca-41a68a929463",
   "metadata": {},
   "source": [
    "```\n",
    "Input-1:\n",
    "    6\n",
    "    1\n",
    "Output-1:\n",
    "    Given number 6 and the expression is 3x**3 value is: ?\n",
    "Input-2:\n",
    "    4\n",
    "Output-2:\n",
    "```"
   ]
  },
  {
   "cell_type": "code",
   "execution_count": 31,
   "id": "f4e835ce-41d6-4129-a249-3b003ee444ee",
   "metadata": {},
   "outputs": [
    {
     "name": "stdin",
     "output_type": "stream",
     "text": [
      " 0\n",
      " 2\n"
     ]
    },
    {
     "name": "stdout",
     "output_type": "stream",
     "text": [
      "Given number 0 and the expression is 3x**3 value is: 24\n"
     ]
    }
   ],
   "source": [
    "n = int(input())\n",
    "if n%3==0:\n",
    "    k = int(input())\n",
    "    print(f\"Given number {n} and the expression is 3x**3 value is: {3*k**3}\")"
   ]
  },
  {
   "cell_type": "markdown",
   "id": "36437e5b-fbc9-4c0b-bbb6-856871694966",
   "metadata": {},
   "source": [
    "## if-else:\n",
    "    Syntax:\n",
    "        if condition:\n",
    "            //statements\n",
    "        else:\n",
    "            //statements"
   ]
  },
  {
   "cell_type": "code",
   "execution_count": 36,
   "id": "5bf7fea0-09a2-4f5b-a875-f507f5a924aa",
   "metadata": {},
   "outputs": [
    {
     "name": "stdin",
     "output_type": "stream",
     "text": [
      " 300\n"
     ]
    },
    {
     "name": "stdout",
     "output_type": "stream",
     "text": [
      "Entered number is 300 and the difference is: +100\n"
     ]
    }
   ],
   "source": [
    "n = int(input())\n",
    "if n < 200:\n",
    "    print(f\"Entered number is {n} and the difference is: {n-200}\")\n",
    "else:\n",
    "    print(f\"Entered number is {n} and the difference is: +{n-200}\")"
   ]
  },
  {
   "cell_type": "markdown",
   "id": "6d9568fe-de72-4537-8c82-b1e0dc70393c",
   "metadata": {},
   "source": [
    "```\n",
    "Even: 5x**2+3y+20z\n",
    "Odd: 93y**3\n",
    "Input-1:\n",
    "    10\n",
    "    1\n",
    "    5\n",
    "    6\n",
    "Output-1:\n",
    "    Given expression is 5x**2+3y+20z and value is: ?\n",
    "Input-2:\n",
    "    3\n",
    "    2\n",
    "Output-2:\n",
    "    Given expression is 93y**3 and value is: ?\n",
    "``` "
   ]
  },
  {
   "cell_type": "code",
   "execution_count": null,
   "id": "33a622bb-db06-4b1b-b50f-f1066a367363",
   "metadata": {},
   "outputs": [],
   "source": []
  }
 ],
 "metadata": {
  "kernelspec": {
   "display_name": "Python 3 (ipykernel)",
   "language": "python",
   "name": "python3"
  },
  "language_info": {
   "codemirror_mode": {
    "name": "ipython",
    "version": 3
   },
   "file_extension": ".py",
   "mimetype": "text/x-python",
   "name": "python",
   "nbconvert_exporter": "python",
   "pygments_lexer": "ipython3",
   "version": "3.9.6"
  }
 },
 "nbformat": 4,
 "nbformat_minor": 5
}
