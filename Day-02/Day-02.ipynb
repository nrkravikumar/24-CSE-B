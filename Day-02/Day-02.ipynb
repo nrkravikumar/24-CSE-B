{
 "cells": [
  {
   "cell_type": "markdown",
   "id": "a319bb0f-8c16-46f4-a7dc-f3d3110affef",
   "metadata": {},
   "source": [
    "## Operators:\n",
    "    - Arithmetic => +,-,*,/,%,//,**\n",
    "    - Assignment => +=,-=,*=,/=,%=,//=,**=\n",
    "    - Logical => AND,OR,XOR,NOT\n",
    "    - Relational => >,<,==,!=,>=,<=\n",
    "    - Bitwise => &,|,^,>>,<<\n",
    "    - Identity => is, is not\n",
    "    - Membership => in, not in"
   ]
  },
  {
   "cell_type": "markdown",
   "id": "1289c66c-8729-419f-9ae9-0a12fbc0b503",
   "metadata": {},
   "source": [
    "## Input Formatting:\n",
    "    - It displays an info to a user\n",
    "    - It reads a value from a user\n",
    "    - By default it stores string data type value\n",
    "    Syntax:\n",
    "        variable_name = input(\"something info\")"
   ]
  },
  {
   "cell_type": "code",
   "execution_count": 4,
   "id": "c71eb537-d1f4-4c03-8ab0-9a3604a6b7b2",
   "metadata": {},
   "outputs": [
    {
     "name": "stdin",
     "output_type": "stream",
     "text": [
      "Enter a value:  rajesh\n"
     ]
    },
    {
     "name": "stdout",
     "output_type": "stream",
     "text": [
      "rajesh <class 'str'>\n"
     ]
    }
   ],
   "source": [
    "n = input(\"Enter a value: \")\n",
    "print(n,type(n))"
   ]
  },
  {
   "cell_type": "code",
   "execution_count": 1,
   "id": "c5699182-4e74-424d-bf1c-71be77197f73",
   "metadata": {},
   "outputs": [
    {
     "name": "stdout",
     "output_type": "stream",
     "text": [
      "20\n"
     ]
    }
   ],
   "source": [
    "a = 20\n",
    "print(a)"
   ]
  },
  {
   "cell_type": "markdown",
   "id": "193cb45e-e5e0-41d1-9596-b14644873d70",
   "metadata": {},
   "source": [
    "## Typecasting:\n",
    "    - To change the data type of value from one data type to another data type\n",
    "    - int()\n",
    "    - float()\n",
    "    - complex()\n",
    "    - bool()\n",
    "    - All Data Structures [list(),tuple(),set(),str() and dict()]"
   ]
  },
  {
   "cell_type": "code",
   "execution_count": 4,
   "id": "381dd4e6-9350-4c77-a620-206a38e2e89a",
   "metadata": {},
   "outputs": [
    {
     "name": "stdin",
     "output_type": "stream",
     "text": [
      "Enter n value:  12\n",
      "Enter m value:  5\n"
     ]
    },
    {
     "name": "stdout",
     "output_type": "stream",
     "text": [
      "12 <class 'int'>\n",
      "5 <class 'int'>\n"
     ]
    }
   ],
   "source": [
    "n,m = int(input(\"Enter n value: \")),int(input(\"Enter m value: \"))\n",
    "print(n,type(n))\n",
    "print(m,type(m))"
   ]
  },
  {
   "cell_type": "markdown",
   "id": "f55b3b09-e51b-4c2f-ba4b-85e366ccdd5b",
   "metadata": {},
   "source": [
    "```\n",
    "Input:\n",
    "    12\n",
    "    2\n",
    "Output:\n",
    "    Entered numbers are 12,2\n",
    "    Entered numbers are '12','2'\n",
    "```"
   ]
  },
  {
   "cell_type": "code",
   "execution_count": null,
   "id": "0f86143e-f1b2-40cf-b856-276080ae33d8",
   "metadata": {},
   "outputs": [],
   "source": []
  }
 ],
 "metadata": {
  "kernelspec": {
   "display_name": "Python 3 (ipykernel)",
   "language": "python",
   "name": "python3"
  },
  "language_info": {
   "codemirror_mode": {
    "name": "ipython",
    "version": 3
   },
   "file_extension": ".py",
   "mimetype": "text/x-python",
   "name": "python",
   "nbconvert_exporter": "python",
   "pygments_lexer": "ipython3",
   "version": "3.9.6"
  }
 },
 "nbformat": 4,
 "nbformat_minor": 5
}
