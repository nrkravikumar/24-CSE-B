{
 "cells": [
  {
   "cell_type": "markdown",
   "id": "da00f7f2-4eb1-4d60-a9dd-8445c7a16a73",
   "metadata": {},
   "source": [
    "# Python Basics:"
   ]
  },
  {
   "cell_type": "markdown",
   "id": "203c1f31-5443-42b6-ac31-01c5d25cc17d",
   "metadata": {},
   "source": [
    "## Variables:\n",
    "    - It stores a value\n",
    "    - It changes a value\n",
    "    Syntax:\n",
    "        variable_name = value"
   ]
  },
  {
   "cell_type": "markdown",
   "id": "fad50411-a025-45a0-8671-f5cef1c14a75",
   "metadata": {},
   "source": [
    "## Variable Assignment Types:\n",
    "    - single variable = single value\n",
    "    - n number of variables = n number of values\n",
    "    - n number of variables = single value\n",
    "    - single variable = n number of values"
   ]
  },
  {
   "cell_type": "code",
   "execution_count": 1,
   "id": "f76c483e-1988-43a5-a7b3-d96606c5e106",
   "metadata": {},
   "outputs": [
    {
     "data": {
      "text/plain": [
       "45"
      ]
     },
     "execution_count": 1,
     "metadata": {},
     "output_type": "execute_result"
    }
   ],
   "source": [
    "a = 45\n",
    "a"
   ]
  },
  {
   "cell_type": "code",
   "execution_count": 2,
   "id": "a148594b-8f7e-4000-8039-84acf7f8ec35",
   "metadata": {},
   "outputs": [
    {
     "data": {
      "text/plain": [
       "12.21"
      ]
     },
     "execution_count": 2,
     "metadata": {},
     "output_type": "execute_result"
    }
   ],
   "source": [
    "g = 12.21\n",
    "g"
   ]
  },
  {
   "cell_type": "code",
   "execution_count": 3,
   "id": "53a87724-f69e-4ec1-a1b0-dac8e499bae1",
   "metadata": {},
   "outputs": [
    {
     "data": {
      "text/plain": [
       "12"
      ]
     },
     "execution_count": 3,
     "metadata": {},
     "output_type": "execute_result"
    }
   ],
   "source": [
    "s = 78\n",
    "d = 12\n",
    "s\n",
    "d"
   ]
  },
  {
   "cell_type": "code",
   "execution_count": 4,
   "id": "06a60f4a-8dc9-4ec2-b990-293c06cb019b",
   "metadata": {},
   "outputs": [
    {
     "data": {
      "text/plain": [
       "78"
      ]
     },
     "execution_count": 4,
     "metadata": {},
     "output_type": "execute_result"
    }
   ],
   "source": [
    "d\n",
    "s"
   ]
  },
  {
   "cell_type": "code",
   "execution_count": 5,
   "id": "b77cc4ee-181d-4734-b5cf-fb936a5e96f2",
   "metadata": {},
   "outputs": [
    {
     "data": {
      "text/plain": [
       "(78, 12)"
      ]
     },
     "execution_count": 5,
     "metadata": {},
     "output_type": "execute_result"
    }
   ],
   "source": [
    "s,d"
   ]
  },
  {
   "cell_type": "code",
   "execution_count": 6,
   "id": "c93a3941-79b1-48e8-876f-5186dea5c50e",
   "metadata": {},
   "outputs": [
    {
     "data": {
      "text/plain": [
       "(45, 23.1515)"
      ]
     },
     "execution_count": 6,
     "metadata": {},
     "output_type": "execute_result"
    }
   ],
   "source": [
    "a,b = 45,23.1515\n",
    "a,b"
   ]
  },
  {
   "cell_type": "code",
   "execution_count": 7,
   "id": "1906e77d-fc5d-42a6-9f09-0a120bff47d4",
   "metadata": {},
   "outputs": [
    {
     "ename": "ValueError",
     "evalue": "too many values to unpack (expected 2)",
     "output_type": "error",
     "traceback": [
      "\u001b[1;31m---------------------------------------------------------------------------\u001b[0m",
      "\u001b[1;31mValueError\u001b[0m                                Traceback (most recent call last)",
      "Cell \u001b[1;32mIn[7], line 1\u001b[0m\n\u001b[1;32m----> 1\u001b[0m a,b \u001b[38;5;241m=\u001b[39m \u001b[38;5;241m45\u001b[39m,\u001b[38;5;241m23.1515\u001b[39m,\u001b[38;5;28;01mFalse\u001b[39;00m\n\u001b[0;32m      2\u001b[0m a,b\n",
      "\u001b[1;31mValueError\u001b[0m: too many values to unpack (expected 2)"
     ]
    }
   ],
   "source": [
    "a,b = 45,23.1515,False\n",
    "a,b"
   ]
  },
  {
   "cell_type": "code",
   "execution_count": 8,
   "id": "e3d2cbf5-95f6-4642-8642-6cd6069c7fdb",
   "metadata": {},
   "outputs": [
    {
     "ename": "ValueError",
     "evalue": "not enough values to unpack (expected 3, got 2)",
     "output_type": "error",
     "traceback": [
      "\u001b[1;31m---------------------------------------------------------------------------\u001b[0m",
      "\u001b[1;31mValueError\u001b[0m                                Traceback (most recent call last)",
      "Cell \u001b[1;32mIn[8], line 1\u001b[0m\n\u001b[1;32m----> 1\u001b[0m a,b,d \u001b[38;5;241m=\u001b[39m \u001b[38;5;241m45\u001b[39m,\u001b[38;5;241m23.1515\u001b[39m\n\u001b[0;32m      2\u001b[0m a,b,d\n",
      "\u001b[1;31mValueError\u001b[0m: not enough values to unpack (expected 3, got 2)"
     ]
    }
   ],
   "source": [
    "a,b,d = 45,23.1515\n",
    "a,b,d"
   ]
  },
  {
   "cell_type": "code",
   "execution_count": 9,
   "id": "3f17c4b6-b53d-4b1e-b0e2-a80c4754f757",
   "metadata": {},
   "outputs": [
    {
     "data": {
      "text/plain": [
       "(45, 452.1215, False)"
      ]
     },
     "execution_count": 9,
     "metadata": {},
     "output_type": "execute_result"
    }
   ],
   "source": [
    "n = 45,452.1215,False\n",
    "n"
   ]
  },
  {
   "cell_type": "code",
   "execution_count": 10,
   "id": "bbf11db4-9ae8-48ae-8ebe-9a4151f5b11e",
   "metadata": {},
   "outputs": [
    {
     "data": {
      "text/plain": [
       "(120, 120, 120)"
      ]
     },
     "execution_count": 10,
     "metadata": {},
     "output_type": "execute_result"
    }
   ],
   "source": [
    "n = m = p = 120\n",
    "n,m,p"
   ]
  },
  {
   "cell_type": "code",
   "execution_count": 11,
   "id": "91e5aaf4-b102-4c73-8d49-804ce0eae349",
   "metadata": {},
   "outputs": [
    {
     "name": "stdout",
     "output_type": "stream",
     "text": [
      "23\n"
     ]
    },
    {
     "data": {
      "text/plain": [
       "'23'"
      ]
     },
     "execution_count": 11,
     "metadata": {},
     "output_type": "execute_result"
    }
   ],
   "source": [
    "w = '23'\n",
    "print(w)\n",
    "w"
   ]
  },
  {
   "cell_type": "markdown",
   "id": "fdeb9662-7ac3-4832-b264-3c18dbc0e9e2",
   "metadata": {},
   "source": [
    "## Type:\n",
    "    - To know the data type of a value\n",
    "    Syntax:\n",
    "        type(variable_name)"
   ]
  },
  {
   "cell_type": "code",
   "execution_count": 12,
   "id": "769fd425-2ba6-46ba-b692-6c41c3a8347e",
   "metadata": {},
   "outputs": [
    {
     "name": "stdout",
     "output_type": "stream",
     "text": [
      "45 <class 'int'>\n",
      "156 <class 'str'>\n"
     ]
    }
   ],
   "source": [
    "n,m = 45,'156'\n",
    "print(n,type(n))\n",
    "print(m,type(m))"
   ]
  },
  {
   "cell_type": "code",
   "execution_count": 13,
   "id": "7de335cb-c4c5-47cc-9f2c-014e16c241eb",
   "metadata": {},
   "outputs": [
    {
     "data": {
      "text/plain": [
       "(int, str)"
      ]
     },
     "execution_count": 13,
     "metadata": {},
     "output_type": "execute_result"
    }
   ],
   "source": [
    "n,m = 45,'156'\n",
    "type(n),type(m)"
   ]
  },
  {
   "cell_type": "markdown",
   "id": "39864529-6497-4407-97ff-f6ccb238c745",
   "metadata": {},
   "source": [
    "## Data types:\n",
    "    - int => only numeric values\n",
    "    - float => numeric and decimal values\n",
    "    - boolean => True or False\n",
    "    - complex => real and imaginary part\n",
    "    - none => None\n",
    "    - All Data structures[list,tuple,set,string and dictionary]"
   ]
  },
  {
   "cell_type": "code",
   "execution_count": 15,
   "id": "7bfcda69-978e-4b15-a24e-16a0eff00fce",
   "metadata": {},
   "outputs": [
    {
     "name": "stdout",
     "output_type": "stream",
     "text": [
      "12 <class 'int'>\n",
      "45.021 <class 'float'>\n",
      "True <class 'bool'>\n",
      "(4+5j) <class 'complex'>\n",
      "Prasad <class 'str'>\n",
      "None <class 'NoneType'>\n"
     ]
    }
   ],
   "source": [
    "a,b,c,d,e,f = 12,45.021,True,4+5j,\"Prasad\",None\n",
    "print(a,type(a))\n",
    "print(b,type(b))\n",
    "print(c,type(c))\n",
    "print(d,type(d))\n",
    "print(e,type(e))\n",
    "print(f,type(f))"
   ]
  },
  {
   "cell_type": "code",
   "execution_count": null,
   "id": "9a8b7fbf-1539-4713-91fe-9d0a06927a08",
   "metadata": {},
   "outputs": [],
   "source": []
  }
 ],
 "metadata": {
  "kernelspec": {
   "display_name": "Python 3 (ipykernel)",
   "language": "python",
   "name": "python3"
  },
  "language_info": {
   "codemirror_mode": {
    "name": "ipython",
    "version": 3
   },
   "file_extension": ".py",
   "mimetype": "text/x-python",
   "name": "python",
   "nbconvert_exporter": "python",
   "pygments_lexer": "ipython3",
   "version": "3.9.6"
  }
 },
 "nbformat": 4,
 "nbformat_minor": 5
}
